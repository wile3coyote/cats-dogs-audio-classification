{
 "cells": [
  {
   "cell_type": "code",
   "execution_count": null,
   "metadata": {
    "colab": {},
    "colab_type": "code",
    "id": "Opu1yz1lW9Os"
   },
   "outputs": [],
   "source": [
    "from keras.callbacks import Callback\n",
    "import keras.backend as K\n",
    "import numpy as np\n",
    "from keras_preprocessing.image import ImageDataGenerator\n",
    "import librosa\n",
    "import librosa.display\n",
    "import os\n",
    "import matplotlib.pyplot as plt\n",
    "from matplotlib import figure\n",
    "from PIL import Image"
   ]
  },
  {
   "cell_type": "code",
   "execution_count": null,
   "metadata": {},
   "outputs": [],
   "source": [
    "#Creating the required folders\n",
    "try:\n",
    "    os.makedirs(\"image/train/cat\")\n",
    "    os.makedirs(\"image/train/dog\")\n",
    "    os.makedirs(\"image/test/cat\")\n",
    "    os.makedirs(\"image/test/dog\")\n",
    "except FileExistsError:\n",
    "    # directory already exists\n",
    "    pass"
   ]
  },
  {
   "cell_type": "code",
   "execution_count": null,
   "metadata": {
    "colab": {},
    "colab_type": "code",
    "id": "Cojjta49XRoF"
   },
   "outputs": [],
   "source": [
    "#Function for creating the spectrogram of the audio from train dataset\n",
    "def create_spectrogram(filename,name,folder):\n",
    "    plt.interactive(False)\n",
    "    clip, sample_rate = librosa.load('cats_dogs/train/'+folder+'/'+filename, sr=None)\n",
    "    fig = plt.figure(figsize=[0.72,0.72])\n",
    "    ax = fig.add_subplot(111)\n",
    "    ax.axes.get_xaxis().set_visible(False)\n",
    "    ax.axes.get_yaxis().set_visible(False)\n",
    "    ax.set_frame_on(False)\n",
    "    S = librosa.feature.melspectrogram(y=clip, sr=sample_rate)\n",
    "    librosa.display.specshow(librosa.power_to_db(S, ref=np.max))\n",
    "    filename  = 'image/train/'+ folder +'/' + name + '.jpg'\n",
    "    plt.savefig(filename, dpi=400, bbox_inches='tight',pad_inches=0)\n",
    "    plt.close()    \n",
    "    fig.clf()\n",
    "    plt.close(fig)\n",
    "    plt.close('all')"
   ]
  },
  {
   "cell_type": "code",
   "execution_count": null,
   "metadata": {
    "colab": {},
    "colab_type": "code",
    "id": "9Ui3IFwHXs86"
   },
   "outputs": [],
   "source": [
    "#Fucntion for creating the spectrogram of the audio from test dataset\n",
    "def create_spectrogram_test(filename,name,folder):\n",
    "    plt.interactive(False)\n",
    "    clip, sample_rate = librosa.load('cats_dogs/test/'+folder+'/'+filename, sr=None)\n",
    "    fig = plt.figure(figsize=[0.72,0.72])\n",
    "    ax = fig.add_subplot(111)\n",
    "    ax.axes.get_xaxis().set_visible(False)\n",
    "    ax.axes.get_yaxis().set_visible(False)\n",
    "    ax.set_frame_on(False)\n",
    "    S = librosa.feature.melspectrogram(y=clip, sr=sample_rate)\n",
    "    librosa.display.specshow(librosa.power_to_db(S, ref=np.max))\n",
    "    filename  = 'image/test/'+ folder +'/' + name + '.jpg'\n",
    "    fig.savefig(filename, dpi=400, bbox_inches='tight',pad_inches=0)\n",
    "    plt.close()    \n",
    "    fig.clf()\n",
    "    plt.close(fig)\n",
    "    plt.close('all')"
   ]
  },
  {
   "cell_type": "code",
   "execution_count": null,
   "metadata": {
    "colab": {
     "base_uri": "https://localhost:8080/",
     "height": 1000
    },
    "colab_type": "code",
    "id": "yqwdUOXjX0Eb",
    "outputId": "7bfc1186-34ae-4b8b-a9e5-91b32c62f931"
   },
   "outputs": [],
   "source": [
    "#Creating the spectrogram of the train split\n",
    "\n",
    "a=0\n",
    "for subdir in os.listdir('cats_dogs/train'):\n",
    "  for filename in os.listdir('cats_dogs/train/'+subdir):\n",
    "    filename,name = filename,filename.split('/')[-1].split('.')[0]\n",
    "    create_spectrogram(filename,name,subdir)\n",
    "    print(\"Image\",a,'created')\n",
    "    a=a+1"
   ]
  },
  {
   "cell_type": "code",
   "execution_count": null,
   "metadata": {
    "colab": {
     "base_uri": "https://localhost:8080/",
     "height": 1000
    },
    "colab_type": "code",
    "id": "SP7zP7QMYPII",
    "outputId": "8418d30f-0ed1-4281-e7cb-f1c4493aefb0"
   },
   "outputs": [],
   "source": [
    "\n",
    "#Renaming the test folders\n",
    "try:\n",
    "    os.rename('cats_dogs/test/cats','cats_dogs/test/cat')\n",
    "    os.rename('cats_dogs/test/test','cats_dogs/test/dog')\n",
    "except FileNotFoundError:\n",
    "    # directory name already changed\n",
    "    pass\n",
    "a=0\n",
    "for subdir in os.listdir('cats_dogs/test'):\n",
    "  for filename in os.listdir('cats_dogs/test/'+subdir):\n",
    "    filename,name = filename,filename.split('/')[-1].split('.')[0]\n",
    "    create_spectrogram_test(filename,name,subdir)\n",
    "    print(\"Image\",a,'created')\n",
    "    a=a+1"
   ]
  },
  {
   "cell_type": "code",
   "execution_count": null,
   "metadata": {
    "colab": {
     "base_uri": "https://localhost:8080/",
     "height": 50
    },
    "colab_type": "code",
    "id": "pKmiigNTY3WB",
    "outputId": "6e0c9e0a-d7f7-4670-eb94-33a7a49ad643"
   },
   "outputs": [],
   "source": [
    "training_datagen=ImageDataGenerator(rescale=1./255.)\n",
    "\n",
    "validation_datagen=ImageDataGenerator(rescale=1./255)\n",
    "\n",
    "train_generator=training_datagen.flow_from_directory(\n",
    "    directory='image/train',\n",
    "    class_mode='categorical',\n",
    "    shuffle=True,\n",
    "    seed=37,\n",
    "    target_size=(128,128),\n",
    "    batch_size=32\n",
    ")\n",
    "\n",
    "validation_generator=validation_datagen.flow_from_directory(\n",
    "    directory='image/test',\n",
    "    class_mode='categorical',\n",
    "    shuffle=True,\n",
    "    seed=37,\n",
    "    target_size=(128,128),\n",
    "    batch_size=32\n",
    ")"
   ]
  },
  {
   "cell_type": "code",
   "execution_count": null,
   "metadata": {
    "colab": {},
    "colab_type": "code",
    "id": "JjPoBIJIaAtY"
   },
   "outputs": [],
   "source": [
    "from tensorflow.keras.models import Sequential\n",
    "from tensorflow.keras.layers import Dense,Flatten,Dropout,Conv2D, MaxPooling2D,Activation\n",
    "\n",
    "model = Sequential()\n",
    "model.add(Conv2D(32, (3, 3), padding='same', input_shape=(128,128,3)))\n",
    "model.add(Activation('relu'))\n",
    "model.add(Conv2D(64, (3, 3)))\n",
    "model.add(Activation('relu'))\n",
    "model.add(MaxPooling2D(pool_size=(2, 2)))\n",
    "model.add(Dropout(0.25))\n",
    "model.add(Conv2D(128, (3, 3), padding='same'))\n",
    "model.add(Activation('relu'))\n",
    "model.add(Conv2D(128, (3, 3)))\n",
    "model.add(Activation('relu'))\n",
    "model.add(MaxPooling2D(pool_size=(2, 2)))\n",
    "model.add(Dropout(0.5))\n",
    "model.add(Flatten())\n",
    "model.add(Dense(512))\n",
    "model.add(Activation('relu'))\n",
    "model.add(Dropout(0.5))\n",
    "model.add(Dense(2, activation='softmax'))"
   ]
  },
  {
   "cell_type": "code",
   "execution_count": null,
   "metadata": {
    "colab": {},
    "colab_type": "code",
    "id": "eApqFH9xaGvk"
   },
   "outputs": [],
   "source": [
    "#Callback fucntion to stop training when validation accuracy  reaches 95%\n",
    "class myCallback(Callback):\n",
    "  def on_epoch_end(self, epoch, logs={}):\n",
    "    if(logs.get('val_acc')>0.95):\n",
    "      print(\"\\nReached 95% accuracy so cancelling training!\")\n",
    "      self.model.stop_training = True\n",
    "\n",
    "model.compile(optimizers.Adam(lr=1e-4, decay=1e-6),loss=\"categorical_crossentropy\",metrics=[\"accuracy\"])"
   ]
  },
  {
   "cell_type": "code",
   "execution_count": null,
   "metadata": {
    "colab": {
     "base_uri": "https://localhost:8080/",
     "height": 1000
    },
    "colab_type": "code",
    "id": "7fx8Izs8aO0I",
    "outputId": "a69c80a4-1eb7-4d91-8c1a-ab91d812f007"
   },
   "outputs": [],
   "source": [
    "STEP_SIZE_TRAIN=train_generator.n//train_generator.batch_size\n",
    "STEP_SIZE_VALID=validation_generator.n//validation_generator.batch_size\n",
    "callbacks = myCallback()\n",
    "\n",
    "History=model.fit_generator(generator=train_generator,\n",
    "                    steps_per_epoch=STEP_SIZE_TRAIN,\n",
    "                    validation_data=validation_generator,\n",
    "                    validation_steps=STEP_SIZE_VALID,\n",
    "                    epochs=50,\n",
    "                    callbacks=[callbacks]\n",
    ")"
   ]
  },
  {
   "cell_type": "code",
   "execution_count": null,
   "metadata": {
    "colab": {},
    "colab_type": "code",
    "id": "SvJy9wtGaTi4"
   },
   "outputs": [],
   "source": [
    "#Function for creating spectrogram for the input audio to be predicted\n",
    "def create_spectrogram_pred(filename,name):\n",
    "    plt.interactive(False)\n",
    "    clip, sample_rate = librosa.load(filename, sr=None)\n",
    "    fig = plt.figure(figsize=[0.72,0.72])\n",
    "    ax = fig.add_subplot(111)\n",
    "    ax.axes.get_xaxis().set_visible(False)\n",
    "    ax.axes.get_yaxis().set_visible(False)\n",
    "    ax.set_frame_on(False)\n",
    "    S = librosa.feature.melspectrogram(y=clip, sr=sample_rate)\n",
    "    librosa.display.specshow(librosa.power_to_db(S, ref=np.max))\n",
    "    filename  =  name + '.jpg'\n",
    "    plt.savefig(filename, dpi=400, bbox_inches='tight',pad_inches=0)\n",
    "    plt.close()    \n",
    "    fig.clf()\n",
    "    plt.close(fig)\n",
    "    plt.close('all')\n",
    "    del filename,name,clip,sample_rate,fig,ax,S"
   ]
  },
  {
   "cell_type": "code",
   "execution_count": null,
   "metadata": {
    "colab": {},
    "colab_type": "code",
    "id": "G0zHRrbMb_bx"
   },
   "outputs": [],
   "source": [
    "#Function for predicting cat or dog of the input audio\n",
    "def pred_sound(filename):\n",
    "  filename,name = filename,filename.split('/')[-1].split('.')[0]\n",
    "  create_spectrogram_pred(filename,name)\n",
    "  img = Image.open(name+'.jpg')\n",
    "  img = img.resize((128,128))\n",
    "  sample=np.expand_dims(img,axis=0)\n",
    "  y_hat=model.predict(sample)\n",
    "  if np.argmax(y_hat[0])==0:\n",
    "    print(\"The audio is by cat\")\n",
    "  else:\n",
    "    print(\"The audio is by dog\")\n"
   ]
  },
  {
   "cell_type": "code",
   "execution_count": null,
   "metadata": {
    "colab": {
     "base_uri": "https://localhost:8080/",
     "height": 34
    },
    "colab_type": "code",
    "id": "qCau5dJCc-LK",
    "outputId": "5be503c5-b930-41b3-9fa7-2f34ebe54854"
   },
   "outputs": [],
   "source": [
    "pred_sound('bark.wav')"
   ]
  },
  {
   "cell_type": "code",
   "execution_count": null,
   "metadata": {},
   "outputs": [],
   "source": []
  }
 ],
 "metadata": {
  "accelerator": "GPU",
  "colab": {
   "collapsed_sections": [],
   "name": "Cats and Dogs classification.ipynb",
   "provenance": []
  },
  "kernelspec": {
   "display_name": "Python 3",
   "language": "python",
   "name": "python3"
  },
  "language_info": {
   "codemirror_mode": {
    "name": "ipython",
    "version": 3
   },
   "file_extension": ".py",
   "mimetype": "text/x-python",
   "name": "python",
   "nbconvert_exporter": "python",
   "pygments_lexer": "ipython3",
   "version": "3.7.3"
  }
 },
 "nbformat": 4,
 "nbformat_minor": 1
}
